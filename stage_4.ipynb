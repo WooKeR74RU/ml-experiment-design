{
 "cells": [
  {
   "cell_type": "code",
   "execution_count": 1,
   "id": "initial_id",
   "metadata": {
    "collapsed": true,
    "ExecuteTime": {
     "end_time": "2024-03-26T13:46:27.356808Z",
     "start_time": "2024-03-26T13:46:27.351843Z"
    }
   },
   "outputs": [
    {
     "name": "stdout",
     "output_type": "stream",
     "text": [
      "env: MLFLOW_TRACKING_URI=http://localhost:5000\n",
      "env: MLFLOW_S3_ENDPOINT_URL=http://localhost:9000\n"
     ]
    }
   ],
   "source": [
    "%env MLFLOW_TRACKING_URI=http://localhost:5000\n",
    "%env MLFLOW_S3_ENDPOINT_URL=http://localhost:9000"
   ]
  },
  {
   "cell_type": "code",
   "outputs": [
    {
     "name": "stdout",
     "output_type": "stream",
     "text": [
      "2024/03/26 16:46:28 INFO mlflow.projects.utils: === Fetching project from git@github.com:WooKeR74RU/ml-experiment-design.git into /var/folders/fm/9h9_y75x69s8kdz1vr9gqk380000gn/T/tmpkkxo48nj ===\r\n",
      "2024/03/26 16:46:41 INFO mlflow.projects.utils: Fetched 'main' branch\r\n",
      "2024/03/26 16:46:42 INFO mlflow.projects.docker: ubuntu/mlflow:2.1.1_1.0-22.04 already exists\r\n",
      "2024/03/26 16:46:42 INFO mlflow.projects.utils: === Created directory /var/folders/fm/9h9_y75x69s8kdz1vr9gqk380000gn/T/tmptpvgf5pu for downloading remote URIs passed to arguments of type 'path' ===\r\n",
      "2024/03/26 16:46:42 INFO mlflow.projects.backend.local: === Running command 'docker run --rm --name some_exp -v ./train.py:/tmp/train.py -e MLFLOW_RUN_ID=e75891e2c04a4c1aabd0e8b9d0719df8 -e MLFLOW_TRACKING_URI=http://localhost:5000 -e MLFLOW_EXPERIMENT_ID=1 -e MLFLOW_S3_ENDPOINT_URL=http://localhost:9000 ubuntu/mlflow:2.1.1_1.0-22.04 python3 /tmp/train.py' in run with ID 'e75891e2c04a4c1aabd0e8b9d0719df8' === \r\n",
      "WARNING: The requested image's platform (linux/amd64) does not match the detected host platform (linux/arm64/v8) and no specific platform was requested\r\n",
      "Traceback (most recent call last):\r\n",
      "  File \"/tmp/train.py\", line 6, in <module>\r\n",
      "    from hyperopt import hp, fmin, tpe\r\n",
      "ModuleNotFoundError: No module named 'hyperopt'\r\n",
      "2024/03/26 16:46:45 ERROR mlflow.cli: === Run (ID 'e75891e2c04a4c1aabd0e8b9d0719df8') failed ===\r\n"
     ]
    }
   ],
   "source": [
    "! mlflow run git@github.com:WooKeR74RU/ml-experiment-design.git --experiment-name=some_exp --docker-args name=some_exp"
   ],
   "metadata": {
    "collapsed": false,
    "ExecuteTime": {
     "end_time": "2024-03-26T13:46:45.531329Z",
     "start_time": "2024-03-26T13:46:27.357861Z"
    }
   },
   "id": "4f773bbfa8290554",
   "execution_count": 2
  }
 ],
 "metadata": {
  "kernelspec": {
   "display_name": "Python 3",
   "language": "python",
   "name": "python3"
  },
  "language_info": {
   "codemirror_mode": {
    "name": "ipython",
    "version": 2
   },
   "file_extension": ".py",
   "mimetype": "text/x-python",
   "name": "python",
   "nbconvert_exporter": "python",
   "pygments_lexer": "ipython2",
   "version": "2.7.6"
  }
 },
 "nbformat": 4,
 "nbformat_minor": 5
}
