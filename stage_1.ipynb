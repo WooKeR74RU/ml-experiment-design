{
 "cells": [
  {
   "cell_type": "code",
   "outputs": [],
   "source": [
    "! cd environment && docker compose up --detach --build"
   ],
   "metadata": {
    "collapsed": true
   },
   "id": "initial_id",
   "execution_count": null
  },
  {
   "cell_type": "code",
   "outputs": [
    {
     "name": "stdout",
     "output_type": "stream",
     "text": [
      "CONTAINER ID   IMAGE                COMMAND                  CREATED         STATUS                   PORTS                                     NAMES\r\n",
      "ed4240858380   mlflow_server        \"mlflow server --hos…\"   2 minutes ago   Up 2 minutes             0.0.0.0:5000->5000/tcp                    mlflow_server\r\n",
      "c7ffe44927e8   minio/minio          \"/usr/bin/docker-ent…\"   2 minutes ago   Up 2 minutes             0.0.0.0:9000-9001->9000-9001/tcp          minio_server\r\n",
      "e0de330e4754   mysql/mysql-server   \"/entrypoint.sh mysq…\"   2 minutes ago   Up 2 minutes (healthy)   33060-33061/tcp, 0.0.0.0:3348->3306/tcp   mlflow_db\r\n"
     ]
    }
   ],
   "source": [
    "! docker container ls"
   ],
   "metadata": {
    "collapsed": false,
    "ExecuteTime": {
     "end_time": "2024-03-26T13:38:25.764188Z",
     "start_time": "2024-03-26T13:38:25.605122Z"
    }
   },
   "id": "e32c7386cdfeddd4",
   "execution_count": 2
  },
  {
   "cell_type": "markdown",
   "source": [
    "[MLflow Interface](http://localhost:5000/)\n",
    "\n",
    "[MinIO Interface](http://localhost:9001/)"
   ],
   "metadata": {
    "collapsed": false
   },
   "id": "de211285596150ab"
  }
 ],
 "metadata": {
  "kernelspec": {
   "display_name": "Python 3",
   "language": "python",
   "name": "python3"
  },
  "language_info": {
   "codemirror_mode": {
    "name": "ipython",
    "version": 2
   },
   "file_extension": ".py",
   "mimetype": "text/x-python",
   "name": "python",
   "nbconvert_exporter": "python",
   "pygments_lexer": "ipython2",
   "version": "2.7.6"
  }
 },
 "nbformat": 4,
 "nbformat_minor": 5
}
