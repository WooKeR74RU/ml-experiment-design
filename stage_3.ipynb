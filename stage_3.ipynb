{
 "cells": [
  {
   "cell_type": "code",
   "outputs": [
    {
     "name": "stdout",
     "output_type": "stream",
     "text": [
      "env: MLFLOW_TRACKING_URI=http://localhost:5000\n",
      "env: MLFLOW_S3_ENDPOINT_URL=http://localhost:9000\n"
     ]
    }
   ],
   "source": [
    "%env MLFLOW_TRACKING_URI=http://localhost:5000\n",
    "%env MLFLOW_S3_ENDPOINT_URL=http://localhost:9000"
   ],
   "metadata": {
    "collapsed": false,
    "ExecuteTime": {
     "end_time": "2024-03-26T13:43:32.736536Z",
     "start_time": "2024-03-26T13:43:32.731307Z"
    }
   },
   "id": "581acd4faecedd48",
   "execution_count": 1
  },
  {
   "cell_type": "code",
   "outputs": [
    {
     "name": "stdout",
     "output_type": "stream",
     "text": [
      "2024/03/26 16:43:34 INFO mlflow.projects: 'some_exp' does not exist. Creating a new experiment\r\n",
      "2024/03/26 16:43:35 INFO mlflow.projects.docker: Pulling ubuntu/mlflow:2.1.1_1.0-22.04\r\n",
      "2024/03/26 16:44:13 INFO mlflow.projects.utils: === Created directory /var/folders/fm/9h9_y75x69s8kdz1vr9gqk380000gn/T/tmpcyzc79g2 for downloading remote URIs passed to arguments of type 'path' ===\r\n",
      "2024/03/26 16:44:13 INFO mlflow.projects.backend.local: === Running command 'docker run --rm --name some_exp -v ./train.py:/tmp/train.py -e MLFLOW_RUN_ID=aa7c345ce5c74a4699a8a1c6ea2a5fec -e MLFLOW_TRACKING_URI=http://localhost:5000 -e MLFLOW_EXPERIMENT_ID=1 -e MLFLOW_S3_ENDPOINT_URL=http://localhost:9000 ubuntu/mlflow:2.1.1_1.0-22.04 python3 /tmp/train.py' in run with ID 'aa7c345ce5c74a4699a8a1c6ea2a5fec' === \r\n",
      "WARNING: The requested image's platform (linux/amd64) does not match the detected host platform (linux/arm64/v8) and no specific platform was requested\r\n",
      "Registered model 'SomeModel' already exists. Creating a new version of this model...\r\n",
      "2024/03/26 13:46:09 INFO mlflow.tracking._model_registry.client: Waiting up to 300 seconds for model version to finish creation.                     Model name: SomeModel, version 2\r\n",
      "Created version '2' of model 'SomeModel'.\r\n",
      "Accuracy score: 0.7567704378638319\r\n",
      "2024/03/26 16:46:11 INFO mlflow.projects: === Run (ID 'aa7c345ce5c74a4699a8a1c6ea2a5fec') succeeded ===\r\n"
     ]
    }
   ],
   "source": [
    "! mlflow run . --experiment-name=some_exp --docker-args name=some_exp"
   ],
   "metadata": {
    "collapsed": true,
    "ExecuteTime": {
     "end_time": "2024-03-26T13:46:11.725555Z",
     "start_time": "2024-03-26T13:43:32.737526Z"
    }
   },
   "id": "initial_id",
   "execution_count": 2
  }
 ],
 "metadata": {
  "kernelspec": {
   "display_name": "Python 3",
   "language": "python",
   "name": "python3"
  },
  "language_info": {
   "codemirror_mode": {
    "name": "ipython",
    "version": 2
   },
   "file_extension": ".py",
   "mimetype": "text/x-python",
   "name": "python",
   "nbconvert_exporter": "python",
   "pygments_lexer": "ipython2",
   "version": "2.7.6"
  }
 },
 "nbformat": 4,
 "nbformat_minor": 5
}
