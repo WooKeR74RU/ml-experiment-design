{
 "cells": [
  {
   "cell_type": "code",
   "outputs": [],
   "source": [
    "import warnings\n",
    "\n",
    "warnings.filterwarnings(\"ignore\", message=r\".*distutils.*\")"
   ],
   "metadata": {
    "collapsed": false,
    "ExecuteTime": {
     "end_time": "2024-03-26T13:40:00.457774Z",
     "start_time": "2024-03-26T13:40:00.443885Z"
    }
   },
   "id": "cda02cecd2b13cfd",
   "execution_count": 1
  },
  {
   "cell_type": "code",
   "outputs": [],
   "source": [
    "import boto3\n",
    "import pandas as pd\n",
    "from io import StringIO\n",
    "\n",
    "# Инициализация клиента\n",
    "s3 = boto3.client(\n",
    "    \"s3\",\n",
    "    endpoint_url=\"http://localhost:9000\",\n",
    "    aws_access_key_id=\"some_aws_access_key_id\",\n",
    "    aws_secret_access_key=\"some_aws_secret_access_key\",\n",
    ")\n",
    "\n",
    "# Считывание данных\n",
    "obj = s3.get_object(Bucket=\"datasets\", Key=\"kinopoisk_train.csv\")\n",
    "data = obj[\"Body\"].read().decode(\"utf-8\")\n",
    "df = pd.read_csv(StringIO(data))"
   ],
   "metadata": {
    "collapsed": false,
    "ExecuteTime": {
     "end_time": "2024-03-26T13:40:02.245873Z",
     "start_time": "2024-03-26T13:40:00.459906Z"
    }
   },
   "id": "9fcbc9f0cc715232",
   "execution_count": 2
  },
  {
   "cell_type": "code",
   "outputs": [
    {
     "data": {
      "text/plain": "                                                  review sentiment\n0      Смотрел фильм несколько раз, с первого раза вы...       neu\n1      Я даже не знаю с чего начать... Сериал этот я ...       neg\n2      Одна вещь порождает следующую. Человек имеет с...       pos\n3      «Журнал 64», как и вся серия адаптации книг эт...       neg\n4      Однажды утром просматривая почту, Дон Джонстон...       pos\n...                                                  ...       ...\n19746  Перед нами одна из многочисленных короткометра...       pos\n19747  Очень редко смотрю современные комедии - как н...       pos\n19748  При просмотре третьей части меня никак не поки...       neg\n19749  Как всегда поражаюсь удивительной сдержанности...       pos\n19750  'Тварь я дрожащая или право имеющий?' — вот ка...       neu\n\n[19751 rows x 2 columns]",
      "text/html": "<div>\n<style scoped>\n    .dataframe tbody tr th:only-of-type {\n        vertical-align: middle;\n    }\n\n    .dataframe tbody tr th {\n        vertical-align: top;\n    }\n\n    .dataframe thead th {\n        text-align: right;\n    }\n</style>\n<table border=\"1\" class=\"dataframe\">\n  <thead>\n    <tr style=\"text-align: right;\">\n      <th></th>\n      <th>review</th>\n      <th>sentiment</th>\n    </tr>\n  </thead>\n  <tbody>\n    <tr>\n      <th>0</th>\n      <td>Смотрел фильм несколько раз, с первого раза вы...</td>\n      <td>neu</td>\n    </tr>\n    <tr>\n      <th>1</th>\n      <td>Я даже не знаю с чего начать... Сериал этот я ...</td>\n      <td>neg</td>\n    </tr>\n    <tr>\n      <th>2</th>\n      <td>Одна вещь порождает следующую. Человек имеет с...</td>\n      <td>pos</td>\n    </tr>\n    <tr>\n      <th>3</th>\n      <td>«Журнал 64», как и вся серия адаптации книг эт...</td>\n      <td>neg</td>\n    </tr>\n    <tr>\n      <th>4</th>\n      <td>Однажды утром просматривая почту, Дон Джонстон...</td>\n      <td>pos</td>\n    </tr>\n    <tr>\n      <th>...</th>\n      <td>...</td>\n      <td>...</td>\n    </tr>\n    <tr>\n      <th>19746</th>\n      <td>Перед нами одна из многочисленных короткометра...</td>\n      <td>pos</td>\n    </tr>\n    <tr>\n      <th>19747</th>\n      <td>Очень редко смотрю современные комедии - как н...</td>\n      <td>pos</td>\n    </tr>\n    <tr>\n      <th>19748</th>\n      <td>При просмотре третьей части меня никак не поки...</td>\n      <td>neg</td>\n    </tr>\n    <tr>\n      <th>19749</th>\n      <td>Как всегда поражаюсь удивительной сдержанности...</td>\n      <td>pos</td>\n    </tr>\n    <tr>\n      <th>19750</th>\n      <td>'Тварь я дрожащая или право имеющий?' — вот ка...</td>\n      <td>neu</td>\n    </tr>\n  </tbody>\n</table>\n<p>19751 rows × 2 columns</p>\n</div>"
     },
     "execution_count": 3,
     "metadata": {},
     "output_type": "execute_result"
    }
   ],
   "source": [
    "df"
   ],
   "metadata": {
    "collapsed": false,
    "ExecuteTime": {
     "end_time": "2024-03-26T13:40:02.256802Z",
     "start_time": "2024-03-26T13:40:02.247225Z"
    }
   },
   "id": "d063cbe572e59c30",
   "execution_count": 3
  },
  {
   "cell_type": "code",
   "outputs": [
    {
     "name": "stdout",
     "output_type": "stream",
     "text": [
      "env: MLFLOW_TRACKING_URI=http://localhost:5000\n",
      "env: MLFLOW_S3_ENDPOINT_URL=http://localhost:9000\n"
     ]
    }
   ],
   "source": [
    "%env MLFLOW_TRACKING_URI=http://localhost:5000\n",
    "%env MLFLOW_S3_ENDPOINT_URL=http://localhost:9000"
   ],
   "metadata": {
    "collapsed": false,
    "ExecuteTime": {
     "end_time": "2024-03-26T13:40:02.260323Z",
     "start_time": "2024-03-26T13:40:02.257682Z"
    }
   },
   "id": "aa269a321322f297",
   "execution_count": 4
  },
  {
   "cell_type": "code",
   "outputs": [
    {
     "name": "stderr",
     "output_type": "stream",
     "text": [
      "Successfully registered model 'SomeModel'.\n",
      "2024/03/26 16:40:44 INFO mlflow.tracking._model_registry.client: Waiting up to 300 seconds for model version to finish creation. Model name: SomeModel, version 1\n",
      "Created version '1' of model 'SomeModel'.\n"
     ]
    }
   ],
   "source": [
    "import mlflow.sklearn\n",
    "from sklearn.feature_extraction.text import CountVectorizer\n",
    "from sklearn.linear_model import LogisticRegression\n",
    "from sklearn.model_selection import train_test_split\n",
    "from sklearn.metrics import accuracy_score\n",
    "\n",
    "X_train, X_test, y_train, y_test = train_test_split(\n",
    "    df[\"review\"], df[\"sentiment\"], test_size=0.2\n",
    ")\n",
    "\n",
    "# Векторизация\n",
    "vectorizer = CountVectorizer()\n",
    "X_train_vec = vectorizer.fit_transform(X_train)\n",
    "X_test_vec = vectorizer.transform(X_test)\n",
    "\n",
    "# Обучение модели\n",
    "clf = LogisticRegression(solver=\"lbfgs\", max_iter=1000)\n",
    "clf.fit(X_train_vec, y_train)\n",
    "\n",
    "# Предсказание\n",
    "y_pred = clf.predict(X_test_vec)\n",
    "\n",
    "# Настройка клиента boto3\n",
    "boto3.setup_default_session(\n",
    "    aws_access_key_id=\"some_aws_access_key_id\",\n",
    "    aws_secret_access_key=\"some_aws_secret_access_key\",\n",
    "    region_name=\"us-west-1\",\n",
    ")\n",
    "\n",
    "# Логирование в MLflow\n",
    "with mlflow.start_run() as run:\n",
    "    # Логирование параметров и метрик\n",
    "    mlflow.log_param(\"model_type\", \"LogisticRegression\")\n",
    "    mlflow.log_metric(\"accuracy\", accuracy_score(y_test, y_pred))\n",
    "\n",
    "    # Логирование модели\n",
    "    mlflow.sklearn.log_model(clf, \"model\", registered_model_name=\"SomeModel\")"
   ],
   "metadata": {
    "collapsed": false,
    "ExecuteTime": {
     "end_time": "2024-03-26T13:40:44.426866Z",
     "start_time": "2024-03-26T13:40:02.261500Z"
    }
   },
   "id": "e09413860672d3f7",
   "execution_count": 5
  },
  {
   "cell_type": "code",
   "outputs": [
    {
     "data": {
      "text/plain": "0.7625917489243229"
     },
     "execution_count": 6,
     "metadata": {},
     "output_type": "execute_result"
    }
   ],
   "source": [
    "accuracy_score(y_test, y_pred)"
   ],
   "metadata": {
    "collapsed": false,
    "ExecuteTime": {
     "end_time": "2024-03-26T13:40:44.439650Z",
     "start_time": "2024-03-26T13:40:44.428807Z"
    }
   },
   "id": "f72f93db4031b0b3",
   "execution_count": 6
  }
 ],
 "metadata": {
  "kernelspec": {
   "display_name": "Python 3",
   "language": "python",
   "name": "python3"
  },
  "language_info": {
   "codemirror_mode": {
    "name": "ipython",
    "version": 2
   },
   "file_extension": ".py",
   "mimetype": "text/x-python",
   "name": "python",
   "nbconvert_exporter": "python",
   "pygments_lexer": "ipython2",
   "version": "2.7.6"
  }
 },
 "nbformat": 4,
 "nbformat_minor": 5
}
